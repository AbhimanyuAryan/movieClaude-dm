{
 "cells": [
  {
   "cell_type": "code",
   "execution_count": 1,
   "metadata": {},
   "outputs": [],
   "source": [
    "from llama_index.core import (\n",
    "    ServiceContext,\n",
    "    PromptHelper,\n",
    "    VectorStoreIndex,\n",
    "    SimpleDirectoryReader,\n",
    "    StorageContext,\n",
    "    load_index_from_storage\n",
    ")\n",
    "\n",
    "from llama_index.embeddings.openai import OpenAIEmbedding\n",
    "from llama_index.llms.openai import OpenAI\n",
    "from llama_index.core.node_parser import SimpleNodeParser\n",
    "import tiktoken\n",
    "# from ..prompts import RecommendationPrompt\n",
    "from typing import List\n",
    "import logging"
   ]
  },
  {
   "cell_type": "code",
   "execution_count": 2,
   "metadata": {},
   "outputs": [],
   "source": [
    "from pydantic import BaseModel\n",
    "\n",
    "class RecommendationPrompt(BaseModel):\n",
    "\n",
    "    template: str = \"\"\"\n",
    "        {details}\n",
    "    \"\"\"\n",
    "\n",
    "    details: str\n",
    "\n",
    "    def __str__(self):\n",
    "\n",
    "        return self.template.format(details = self.details)"
   ]
  },
  {
   "cell_type": "code",
   "execution_count": 3,
   "metadata": {},
   "outputs": [],
   "source": [
    "class RAGProvider:\n",
    "\n",
    "    def __init__(\n",
    "        self,\n",
    "        api_key,\n",
    "        model: str = 'gpt-3.5-turbo',\n",
    "        persist_dir: str = \"tmp\"\n",
    "    ):\n",
    "\n",
    "        self.model = model\n",
    "        self.persist_dir = persist_dir\n",
    "\n",
    "        self.llm = OpenAI(\n",
    "            model = model,\n",
    "            temperature = 0,\n",
    "            max_tokens = 256,\n",
    "            api_key = api_key\n",
    "        )\n",
    "\n",
    "        self.embed_model = OpenAIEmbedding(api_key = api_key)\n",
    "\n",
    "    def create_index(\n",
    "        self,\n",
    "        separator: str = \" \",\n",
    "        chunk_size: int = 1024,\n",
    "        chunk_overlap: int = 20,\n",
    "        prompt_context_window: int = 4096,\n",
    "        num_output: int = 256,\n",
    "        chunk_overlap_ratio: float = 0.1,\n",
    "        chunk_size_limit = None,\n",
    "        input_files: str = \"butil/tmp/\"\n",
    "    ):\n",
    "\n",
    "        node_parser = SimpleNodeParser.from_defaults(\n",
    "            separator = separator,\n",
    "            chunk_size = chunk_size,\n",
    "            chunk_overlap = chunk_overlap,\n",
    "            tokenizer = tiktoken.encoding_for_model(self.model).encode\n",
    "        )\n",
    "\n",
    "        prompt_helper = PromptHelper(\n",
    "            context_window = prompt_context_window, \n",
    "            num_output = num_output, \n",
    "            chunk_overlap_ratio = chunk_overlap_ratio, \n",
    "            chunk_size_limit = chunk_size_limit\n",
    "        )\n",
    "\n",
    "        service_context = ServiceContext.from_defaults(\n",
    "            llm = self.llm,\n",
    "            embed_model = self.embed_model,\n",
    "            node_parser = node_parser,\n",
    "            prompt_helper = prompt_helper\n",
    "        )\n",
    "\n",
    "        documents = SimpleDirectoryReader(input_files).load_data()\n",
    "\n",
    "        index = VectorStoreIndex.from_documents(\n",
    "            documents, \n",
    "            service_context = service_context\n",
    "        )\n",
    "\n",
    "        index.storage_context.persist(persist_dir = self.persist_dir)\n",
    "    \n",
    "    def query(\n",
    "        self,\n",
    "        prompt: RecommendationPrompt,\n",
    "        index_dir: str = \"tmp/\"\n",
    "    ) -> str:\n",
    "        \n",
    "        storage_context = StorageContext.from_defaults(persist_dir = index_dir)\n",
    "        index = load_index_from_storage(storage_context = storage_context)\n",
    "        query_engine = index.as_query_engine()\n",
    "\n",
    "        formatted_prompt = str(prompt)\n",
    "        logging.info(f\"Formatted prompt: {formatted_prompt}\")\n",
    "        response = query_engine.query(formatted_prompt)\n",
    "        return response"
   ]
  },
  {
   "cell_type": "code",
   "execution_count": 4,
   "metadata": {},
   "outputs": [],
   "source": [
    "import dotenv"
   ]
  },
  {
   "cell_type": "code",
   "execution_count": 5,
   "metadata": {},
   "outputs": [
    {
     "data": {
      "text/plain": [
       "True"
      ]
     },
     "execution_count": 5,
     "metadata": {},
     "output_type": "execute_result"
    }
   ],
   "source": [
    "dotenv.load_dotenv()"
   ]
  },
  {
   "cell_type": "code",
   "execution_count": 6,
   "metadata": {},
   "outputs": [],
   "source": [
    "import os"
   ]
  },
  {
   "cell_type": "code",
   "execution_count": 7,
   "metadata": {},
   "outputs": [],
   "source": [
    "# read OPENAI_API_KEY from .env file\n",
    "api_key = os.getenv(\"OPENAI_API_KEY\")"
   ]
  },
  {
   "cell_type": "code",
   "execution_count": 8,
   "metadata": {},
   "outputs": [],
   "source": [
    "provider = RAGProvider(api_key = api_key)"
   ]
  },
  {
   "cell_type": "code",
   "execution_count": 9,
   "metadata": {},
   "outputs": [
    {
     "name": "stderr",
     "output_type": "stream",
     "text": [
      "/var/folders/0j/d0xd373d2tb7zdzcsqrk3mpw0000gn/T/ipykernel_22279/703402201.py:48: DeprecationWarning: Call to deprecated class method from_defaults. (ServiceContext is deprecated, please use `llama_index.settings.Settings` instead.) -- Deprecated since version 0.10.0.\n",
      "  service_context = ServiceContext.from_defaults(\n"
     ]
    }
   ],
   "source": [
    "prompt = provider.create_index()"
   ]
  },
  {
   "cell_type": "code",
   "execution_count": 10,
   "metadata": {},
   "outputs": [],
   "source": [
    "prompt_question = RecommendationPrompt(details = \"which movie had song Dus Bahane 2.0\")"
   ]
  },
  {
   "cell_type": "code",
   "execution_count": 11,
   "metadata": {},
   "outputs": [],
   "source": [
    "prompt"
   ]
  },
  {
   "cell_type": "code",
   "execution_count": 12,
   "metadata": {},
   "outputs": [],
   "source": [
    "recommendations = provider.query(prompt = prompt_question)"
   ]
  },
  {
   "cell_type": "code",
   "execution_count": 13,
   "metadata": {},
   "outputs": [
    {
     "data": {
      "text/plain": [
       "Response(response='The movie that had the song \"Dus Bahane 2.0\" is Baaghi 3.', source_nodes=[NodeWithScore(node=TextNode(id_='c8fa2251-4f6e-43ba-a6a4-f3838853160e', embedding=None, metadata={'page_label': '7', 'file_name': 'Baaghi 3.pdf', 'file_path': '/Users/abhi/Git/M-PROJECT/movieClaude-dm/src/butil/tmp/Baaghi 3.pdf', 'file_type': 'application/pdf', 'file_size': 272107, 'creation_date': '2024-05-23', 'last_modified_date': '2024-05-23'}, excluded_embed_metadata_keys=['file_name', 'file_type', 'file_size', 'creation_date', 'last_modified_date', 'last_accessed_date'], excluded_llm_metadata_keys=['file_name', 'file_type', 'file_size', 'creation_date', 'last_modified_date', 'last_accessed_date'], relationships={<NodeRelationship.SOURCE: '1'>: RelatedNodeInfo(node_id='1637126a-3e3f-4230-8291-e5af383beec2', node_type=<ObjectType.DOCUMENT: '4'>, metadata={'page_label': '7', 'file_name': 'Baaghi 3.pdf', 'file_path': '/Users/abhi/Git/M-PROJECT/movieClaude-dm/src/butil/tmp/Baaghi 3.pdf', 'file_type': 'application/pdf', 'file_size': 272107, 'creation_date': '2024-05-23', 'last_modified_date': '2024-05-23'}, hash='fb018410508d01b35ee22b4eb07931c0fc3674df3b31a8fc2c8be375262e2b95'), <NodeRelationship.PREVIOUS: '2'>: RelatedNodeInfo(node_id='1d52ebeb-ede0-4f8b-bd92-4681d49c8229', node_type=<ObjectType.TEXT: '1'>, metadata={'page_label': '6', 'file_name': 'Baaghi 3.pdf', 'file_path': '/Users/abhi/Git/M-PROJECT/movieClaude-dm/src/butil/tmp/Baaghi 3.pdf', 'file_type': 'application/pdf', 'file_size': 272107, 'creation_date': '2024-05-23', 'last_modified_date': '2024-05-23'}, hash='5513d4241ed415392b8a220a49091e97c0caae752465c0c2f44cf21e96a7a3ad'), <NodeRelationship.NEXT: '3'>: RelatedNodeInfo(node_id='0d13ed7e-7fd7-437a-8b60-10d7de61d724', node_type=<ObjectType.TEXT: '1'>, metadata={}, hash='2addb186d888d7dd80b293412b1d514b6638c9844220130bbf2d970fe9d1e13d')}, text='26. \"Baaghi 3 (Original Motion Picture Soundtrack)\" (https://music.apple.com/us/album/baaghi-3-\\noriginal-motion-picture-soundtrack-ep/1501951055). iTunes.\\n27. \"When Vishal-Shekhar stepped in to rescue their song \\'Dus Bahane\\'\" (https://www.dnaindia.\\ncom/bollywood/report-when-vishal-shekhar-stepped-in-to-rescue-their-song-dus-bahane-28\\n13590). DNA India. 13 February 2020. Retrieved 13 June 2020.\\n28. \"Baaghi 3 song Dus Bahaane: Here\\'s why Vishal-Shekhar agreed to revamp their song\" (htt\\nps://www.mid-day.com/articles/baaghi-3-song-dus-bahaane-heres-why-vishal-shekhar-agree\\nd-to-revamp-their-song/22594156). mid-day. 12 February 2020. Retrieved 25 February 2020.\\n29. \"Vishal-Shekhar on remixing Dus Bahane for Baaghi 3: \\'We are trying to fix it so it isn\\'t\\nreduced to another shoddy remix\\'\" (https://m.hindustantimes.com/music/vishal-shekhar-on-r\\nemixing-dus-bahane-for-baaghi-3-we-are-trying-to-fix-it-so-it-isn-t-reduced-to-another-shodd\\ny-remix/story-xASyXplKux8fjipgF4eneM_amp.html). Hindustan Times. 4 February 2020.\\nRetrieved 11 February 2020.\\n30. Sen, Debarati S. \"Vishal-Shekhar excited to remix their own song for the first time – Times of\\nIndia\" (https://timesofindia.indiatimes.com/entertainment/hindi/music/news/vishal-shekhar-ex\\ncited-to-remix-their-own-song-for-the-first-time/articleshow/74132496.cms). The Times of\\nIndia.\\n31. \"Baaghi 3 song Dus Bahane 2.0 sees Tiger Shroff, Shraddha Kapoor match steps in Vishal-\\nShekhar\\'s rehashed number\" (https://www.firstpost.com/entertainment/baaghi-3-song-dus-ba\\nhane-2-0-sees-tiger-shroff-shraddha-kapoor-match-steps-in-vishal-shekhars-rehashed-numb\\ner-8033431.html). Firstpost. 12 February 2020. Retrieved 29 September 2023.\\n32. \"Tiger Shroff\\'s film to see another remix of a popular song, this time by Bappi Lahiri\" (https://\\nweb.archive.org/web/20200218202735/https://m.mid-day.com/amp/articles/baaghi-3-tiger-sh\\nroffs-film-to-see-another-remix-of-a-popular-song-this-time-by-bappi-lahiri/22623181). Mid\\nDay. 17 February 2020. Archived from the original (https://m.mid-day.com/amp/articles/baagh\\ni-3-tiger-shroffs-film-to-see-another-remix-of-a-popular-song-this-time-by-bappi-lahiri/226231\\n81) on 18 February 2020. Retrieved 17 February 2020.\\nBaaghi 3 (https://www.imdb.com/title/tt8366590/) at IMDb\\nBaaghi 3 (https://www.bollywoodhungama.com/movie/baaghi-3-2/cast/) at Bollywood\\nHungama\\nRetrieved from \"https://en.wikipedia.org/w/index.php?title=Baaghi_3&oldid=1219836170\"External links', start_char_idx=0, end_char_idx=2450, text_template='{metadata_str}\\n\\n{content}', metadata_template='{key}: {value}', metadata_seperator='\\n'), score=0.8150053954418821), NodeWithScore(node=TextNode(id_='d88deb50-72a6-4cc9-8447-95e4512c4ad9', embedding=None, metadata={'page_label': '4', 'file_name': 'Bhool Bhulaiyaa 2.pdf', 'file_path': '/Users/abhi/Git/M-PROJECT/movieClaude-dm/src/butil/tmp/Bhool Bhulaiyaa 2.pdf', 'file_type': 'application/pdf', 'file_size': 416688, 'creation_date': '2024-05-23', 'last_modified_date': '2024-05-23'}, excluded_embed_metadata_keys=['file_name', 'file_type', 'file_size', 'creation_date', 'last_modified_date', 'last_accessed_date'], excluded_llm_metadata_keys=['file_name', 'file_type', 'file_size', 'creation_date', 'last_modified_date', 'last_accessed_date'], relationships={<NodeRelationship.SOURCE: '1'>: RelatedNodeInfo(node_id='a4936acc-3c41-4f49-a203-7ebc511c6573', node_type=<ObjectType.DOCUMENT: '4'>, metadata={'page_label': '4', 'file_name': 'Bhool Bhulaiyaa 2.pdf', 'file_path': '/Users/abhi/Git/M-PROJECT/movieClaude-dm/src/butil/tmp/Bhool Bhulaiyaa 2.pdf', 'file_type': 'application/pdf', 'file_size': 416688, 'creation_date': '2024-05-23', 'last_modified_date': '2024-05-23'}, hash='92b775830a57d0aded80911548a9512fb83ccc462dadddd823f783e0becc673f'), <NodeRelationship.PREVIOUS: '2'>: RelatedNodeInfo(node_id='663daece-7ae6-432b-a889-5a04baba550e', node_type=<ObjectType.TEXT: '1'>, metadata={'page_label': '3', 'file_name': 'Bhool Bhulaiyaa 2.pdf', 'file_path': '/Users/abhi/Git/M-PROJECT/movieClaude-dm/src/butil/tmp/Bhool Bhulaiyaa 2.pdf', 'file_type': 'application/pdf', 'file_size': 416688, 'creation_date': '2024-05-23', 'last_modified_date': '2024-05-23'}, hash='3a67bacbfbf6fe7c911a712abbfaeefc6bbd85f46559dd7a009ea22d94f9fd2e'), <NodeRelationship.NEXT: '3'>: RelatedNodeInfo(node_id='107eedae-830b-400b-bf7f-24c5ce941660', node_type=<ObjectType.TEXT: '1'>, metadata={}, hash='f404477e18c76466bfedeb9fa8abe964a13ee0f14961c8a15163fb083128c29f')}, text='Bhool Bhulaiyya 2\\nSoundtrack album by Pritam and\\nTanishk Bagchi\\nReleased 1 June 2022[25]\\nRecorded 2020-2021\\nGenre Feature film\\nsoundtrack\\nLength 34:37\\nLanguage Hindi\\nLabel T-Series\\nProducer Bhushan Kumar\\nOfficial audio\\nBhool Bhulaiyya 2 - Full Album (http\\ns://www.youtube.com/watch?v=QNp\\nILhJrlIA) on YouTubeKhetani felt the idea had promise and could work as a sequel to Bhool Bhulaiyaa.[13] Eventually, he\\napproached Kumar, who came on board, collaborating with Khetani for the second time since Kabir Singh,\\nwhich also starred Kiara Advani.\\nBhool Bhulaiyaa 2 began filming on 9 October 2019[14] and wrapped up on 25 February 2022.[15] Aaryan\\nlost his voice while filming the climax sequence of the film.[16] It was filmed in a real mansion.[17] Filming\\nwas occurring in Lucknow , before the pandemic disrupted schedule.[18] It was shot in Mumbai and\\nManali.[19][20][21]\\nBhool Bhulaiyaa 2 was released on 20 May 2022.[1] The film was originally scheduled to be released in\\ntheaters on 31 J uly 2020, but  was delayed due  to the COVID-19 pa ndemic.[22]\\nThe digital streaming rights of the film are acquired by Netflix. The film was digitally streamed on Netflix\\nfrom 19 June 2022.[23] The satellite rights were acquired by Sony Max, where it premiered on 16 October\\n2022. On 30 October 2022, a simulcast release of Bhool Bhulaiyaa 2 occurred on all Sony Network\\nChannels[24] like Sony M ax, SET India, Sony S AB and Sony P al.\\nThe music of the film was composed by Pritam while Tanishk\\nBagchi appeared as the guest composer for recreating the title track\\nalong with Pritam. The lyrics were written by Amitabh\\nBhattacharya, Sameer, Yo Yo Honey Singh, Mandy Gill and\\nSaaveri Verma.[25]\\nThe song \"Bhool Bhulaiyaa 2 - Title Track\" was recreated from the\\ntitle track for the 2007 film Bhool Bhulaiyaa which was sung by\\nNeeraj Shridhar and written by Sameer.[26] This is the second time\\nthe song is being recreated after 2017 film Commando 2 which\\nwas the titled \"Hare Krishna Hare Ram\" sung by Armaan Malik,\\nRaftaar, Ritika and composed by G ourov-Roshin.[27]\\nThe song \"Ami Je Tomar/Mere Dholna Sun\" from the prequel was\\nalso retained in the film. Shreya Ghoshal, who sung \"Mere\\nDholna\" in the 2007 prequel, reprised her vocals and is featured in\\nthree different versions of the song i n the film.[28]Filming\\nRelease\\nTheatrical\\nHome media\\nSoundtrack', start_char_idx=0, end_char_idx=2346, text_template='{metadata_str}\\n\\n{content}', metadata_template='{key}: {value}', metadata_seperator='\\n'), score=0.7988172528291867)], metadata={'c8fa2251-4f6e-43ba-a6a4-f3838853160e': {'page_label': '7', 'file_name': 'Baaghi 3.pdf', 'file_path': '/Users/abhi/Git/M-PROJECT/movieClaude-dm/src/butil/tmp/Baaghi 3.pdf', 'file_type': 'application/pdf', 'file_size': 272107, 'creation_date': '2024-05-23', 'last_modified_date': '2024-05-23'}, 'd88deb50-72a6-4cc9-8447-95e4512c4ad9': {'page_label': '4', 'file_name': 'Bhool Bhulaiyaa 2.pdf', 'file_path': '/Users/abhi/Git/M-PROJECT/movieClaude-dm/src/butil/tmp/Bhool Bhulaiyaa 2.pdf', 'file_type': 'application/pdf', 'file_size': 416688, 'creation_date': '2024-05-23', 'last_modified_date': '2024-05-23'}})"
      ]
     },
     "execution_count": 13,
     "metadata": {},
     "output_type": "execute_result"
    }
   ],
   "source": [
    "recommendations"
   ]
  },
  {
   "cell_type": "code",
   "execution_count": 14,
   "metadata": {},
   "outputs": [
    {
     "data": {
      "text/plain": [
       "'The movie that had the song \"Dus Bahane 2.0\" is Baaghi 3.'"
      ]
     },
     "execution_count": 14,
     "metadata": {},
     "output_type": "execute_result"
    }
   ],
   "source": [
    "recommendations.response"
   ]
  },
  {
   "cell_type": "code",
   "execution_count": 18,
   "metadata": {},
   "outputs": [],
   "source": [
    "prompt_question = RecommendationPrompt(details=\"suggest me a movie where actor delivers food\")"
   ]
  },
  {
   "cell_type": "code",
   "execution_count": 19,
   "metadata": {},
   "outputs": [],
   "source": [
    "recommendations = provider.query(prompt = prompt_question)"
   ]
  },
  {
   "cell_type": "code",
   "execution_count": 20,
   "metadata": {},
   "outputs": [
    {
     "data": {
      "text/plain": [
       "'\"Sharmaji Namkeen\" is a movie where the actor delivers food.'"
      ]
     },
     "execution_count": 20,
     "metadata": {},
     "output_type": "execute_result"
    }
   ],
   "source": [
    "recommendations.response"
   ]
  },
  {
   "cell_type": "code",
   "execution_count": null,
   "metadata": {},
   "outputs": [],
   "source": []
  }
 ],
 "metadata": {
  "kernelspec": {
   "display_name": "RAG",
   "language": "python",
   "name": "python3"
  },
  "language_info": {
   "codemirror_mode": {
    "name": "ipython",
    "version": 3
   },
   "file_extension": ".py",
   "mimetype": "text/x-python",
   "name": "python",
   "nbconvert_exporter": "python",
   "pygments_lexer": "ipython3",
   "version": "3.11.8"
  }
 },
 "nbformat": 4,
 "nbformat_minor": 2
}
