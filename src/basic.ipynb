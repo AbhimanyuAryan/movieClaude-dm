{
 "cells": [
  {
   "cell_type": "code",
   "execution_count": 2,
   "metadata": {},
   "outputs": [
    {
     "data": {
      "text/plain": [
       "True"
      ]
     },
     "execution_count": 2,
     "metadata": {},
     "output_type": "execute_result"
    }
   ],
   "source": [
    "# read dotenv file\n",
    "from dotenv import load_dotenv\n",
    "load_dotenv()"
   ]
  },
  {
   "cell_type": "code",
   "execution_count": 3,
   "metadata": {},
   "outputs": [],
   "source": [
    "from llama_index.core import VectorStoreIndex, SimpleDirectoryReader\n",
    "\n",
    "documents = SimpleDirectoryReader(\"butil/tmp/\").load_data()\n",
    "index = VectorStoreIndex.from_documents(documents)"
   ]
  },
  {
   "cell_type": "code",
   "execution_count": 4,
   "metadata": {},
   "outputs": [],
   "source": [
    "query_engine = index.as_query_engine()\n",
    "response = query_engine.query(\"\"\"Who is the actor in ThankGod movie?\"\"\")"
   ]
  },
  {
   "cell_type": "code",
   "execution_count": 5,
   "metadata": {},
   "outputs": [
    {
     "data": {
      "text/plain": [
       "Response(response='Ajay Devgn is the actor in the movie \"Thank God\".', source_nodes=[NodeWithScore(node=TextNode(id_='ba40e8cb-7960-42b0-a5a2-50d979291833', embedding=None, metadata={'page_label': '5', 'file_name': 'Thank God (film).pdf', 'file_path': 'c:\\\\Users\\\\aryan\\\\Documents\\\\M-PROJECT\\\\movieClaude-dm\\\\butil\\\\tmp\\\\Thank God (film).pdf', 'file_type': 'application/pdf', 'file_size': 310172, 'creation_date': '2024-05-17', 'last_modified_date': '2024-05-17'}, excluded_embed_metadata_keys=['file_name', 'file_type', 'file_size', 'creation_date', 'last_modified_date', 'last_accessed_date'], excluded_llm_metadata_keys=['file_name', 'file_type', 'file_size', 'creation_date', 'last_modified_date', 'last_accessed_date'], relationships={<NodeRelationship.SOURCE: '1'>: RelatedNodeInfo(node_id='8fdf337c-519b-407f-bae2-10d4a79db33b', node_type=<ObjectType.DOCUMENT: '4'>, metadata={'page_label': '5', 'file_name': 'Thank God (film).pdf', 'file_path': 'c:\\\\Users\\\\aryan\\\\Documents\\\\M-PROJECT\\\\movieClaude-dm\\\\butil\\\\tmp\\\\Thank God (film).pdf', 'file_type': 'application/pdf', 'file_size': 310172, 'creation_date': '2024-05-17', 'last_modified_date': '2024-05-17'}, hash='4b82e55ef5932484da0b4c6796b29a43751e06fdcea9afea3ee7c055c1a30c81'), <NodeRelationship.NEXT: '3'>: RelatedNodeInfo(node_id='387fb3e9-7444-4c13-a3fa-94b183e4aaa5', node_type=<ObjectType.TEXT: '1'>, metadata={}, hash='47f5f2f27b532032dc3d6346573f403cf9e8c56f34f71edbd4f02987f88beca5')}, text='pure comedy\".[31] Sonil Dedhia of News 18 rated the film 3 out of 5 stars and wrote \"Thank  God is an\\nentertainer with its share of funny moments\".[32] Pratikshya Mishra of The Quint rated the film 2.5 out of 5\\nstars and wrote \"The film goes from comedy to grief to introspection rapidly. While all these emotions are\\ndeployed well individually, as a whole, the film suffers from this constant tonal shift\".[33] Tushar Joshi of\\nIndia Today  rated the film 2 out of 5 stars and wrote \"Despite Ajay\\'s star power and Siddha rth\\'s charm, the\\nfilm fails to hol d the viewers\\' interest\".[34]\\n1. \"Thank God\" (https://www.bbfc.co.uk/release/thank-god-q29sbgvjdglvbjpwwc0xmda3odg5).\\nBritish Board of Film Classification. Archived (https://web.archive.org/web/20221021154635/\\nhttps://www.bbfc.co.uk/release/thank-god-q29sbgvjdglvbjpwwc0xmda3odg5) from the\\noriginal on 21 October 2022. Retrieved 18 October 2022.\\n2. \"Ajay Devgn-Sidharth Malhotra movie, Thank God: Opening weekend gets lukewarm\\nresponse\" (https://economictimes.indiatimes.com/news/new-updates/ajay-devgn-sidharth-m\\nalhotra-movie-thank-god-opening-weekend-gets-lukewarm-response/articleshow/95095370.\\ncms). The Economic Times. 26 October 2022. Archived (https://web.archive.org/web/202211\\n05155232/https://economictimes.indiatimes.com/news/new-updates/ajay-devgn-sidharth-ma\\nlhotra-movie-thank-god-opening-weekend-gets-lukewarm-response/articleshow/95095370.c\\nms) from the original on 5 November 2022. Retrieved 26 October 2022.\\n3. \"Thank God (2022)- Box Office India\" (https://boxofficeindia.com/movie.php?movieid=6206).\\nBox Office India. Archived (https://web.archive.org/web/20230605202206/https://boxofficeind\\nia.com/movie.php?movieid=6206) from the original on 5 June 2023. Retrieved 10 December\\n2022.\\n4. \"Thank God Box Office\" (https://www.bollywoodhungama.com/movie/thank-god/box-office/).\\nBollywood Hungama. 25 October 2022. Archived (https://web.archive.org/web/20230129084\\n301/https://www.bollywoodhungama.com/movie/thank-god/box-office/) from the original on\\n29 January 2023. Retrieved 3 November 2022.\\n5. \"Thank God\" (https://www.bbfc.co.uk/release/thank-god-q29sbgvjdglvbjpwwc0xmda3odg5).\\nBritish Board of Film Classification. Archived (https://web.archive.org/web/20221021154635/\\nhttps://www.bbfc.co.uk/release/thank-god-q29sbgvjdglvbjpwwc0xmda3odg5) from the\\noriginal on 21 October 2022. Retrieved 18 October 2022.\\n6. \"Ajay Devgn, Sidharth Malhotra, Rakul Preet Singh to star in Indra Kumar\\'s Thank God\" (http\\ns://www.indiatvnews.com/entertainment/bollywood/ajay-devgn-sidharth-malhotra-rakul-preet\\n-singh-to-star-in-indra-kumar-s-thank-god-676548). India TV. 7 January 2021. Archived (http\\ns://web.archive.org/web/20210227125958/https://www.indiatvnews.com/entertainment/bolly\\nwood/ajay-devgn-sidharth-malhotra-rakul-preet-singh-to-star-in-indra-kumar-s-thank-god-67\\n6548) from the original on 27 February 2021. Retrieved 16 February 2021.\\n7.', start_char_idx=0, end_char_idx=2912, text_template='{metadata_str}\\n\\n{content}', metadata_template='{key}: {value}', metadata_seperator='\\n'), score=0.8530587422275094), NodeWithScore(node=TextNode(id_='ce515d61-4fc1-46af-8d13-48738a3c0b4b', embedding=None, metadata={'page_label': '6', 'file_name': 'Thank God (film).pdf', 'file_path': 'c:\\\\Users\\\\aryan\\\\Documents\\\\M-PROJECT\\\\movieClaude-dm\\\\butil\\\\tmp\\\\Thank God (film).pdf', 'file_type': 'application/pdf', 'file_size': 310172, 'creation_date': '2024-05-17', 'last_modified_date': '2024-05-17'}, excluded_embed_metadata_keys=['file_name', 'file_type', 'file_size', 'creation_date', 'last_modified_date', 'last_accessed_date'], excluded_llm_metadata_keys=['file_name', 'file_type', 'file_size', 'creation_date', 'last_modified_date', 'last_accessed_date'], relationships={<NodeRelationship.SOURCE: '1'>: RelatedNodeInfo(node_id='06dad75f-0f89-4260-862e-01e5889f2035', node_type=<ObjectType.DOCUMENT: '4'>, metadata={'page_label': '6', 'file_name': 'Thank God (film).pdf', 'file_path': 'c:\\\\Users\\\\aryan\\\\Documents\\\\M-PROJECT\\\\movieClaude-dm\\\\butil\\\\tmp\\\\Thank God (film).pdf', 'file_type': 'application/pdf', 'file_size': 310172, 'creation_date': '2024-05-17', 'last_modified_date': '2024-05-17'}, hash='c6c58c096290c849bdac3aaba39d60248fc1be1a6aa192116f62bd7df91f60f7'), <NodeRelationship.PREVIOUS: '2'>: RelatedNodeInfo(node_id='412aa4c0-9bc4-4010-97dc-34ff823d87a4', node_type=<ObjectType.TEXT: '1'>, metadata={'page_label': '6', 'file_name': 'Thank God (film).pdf', 'file_path': 'c:\\\\Users\\\\aryan\\\\Documents\\\\M-PROJECT\\\\movieClaude-dm\\\\butil\\\\tmp\\\\Thank God (film).pdf', 'file_type': 'application/pdf', 'file_size': 310172, 'creation_date': '2024-05-17', 'last_modified_date': '2024-05-17'}, hash='54f8864a5aabc420aaa06bc722e0d26d5be22ae6986d815188f983e6cd08d7b6')}, text='Retrieved 16 February 2021.\\n11. \"Ajay Devgn, Sidharth Malhotra and Rakul Preet Singh to star in \\'Thank God\\'\" (https://www.t\\nhehindu.com/entertainment/movies/ajay-devgn-sidharth-malhotra-and-rakul-preet-singh-to-st\\nar-in-thank-god/article33518543.ece). The Hindu. 7 January 2021. Archived (https://web.arch\\nive.org/web/20210206233233/https://www.thehindu.com/entertainment/movies/ajay-devgn-si\\ndharth-malhotra-and-rakul-preet-singh-to-star-in-thank-god/article33518543.ece) from the\\noriginal on 6 February 2021. Retrieved 16 February 2021.\\n12. \"Ajay Devgn, Sidharth Malhotra, Rakul Preet Singh starrer Thank God to release on Diwali\\n2022\" (https://www.bollywoodhungama.com/news/bollywood/ajay-devgn-sidharth-malhotra-r\\nakul-preet-singh-starrer-thank-god-release-diwali-2022/). Bollywood Hungama. 17 June\\n2022. Archived (https://web.archive.org/web/20220617103255/https://www.bollywoodhunga\\nma.com/news/bollywood/ajay-devgn-sidharth-malhotra-rakul-preet-singh-starrer-thank-god-r\\nelease-diwali-2022/) from the original on 17 June 2022. Retrieved 17 June 2022.\\n13. \"Box Office Report: \\'Thank God\\' or \\'Ram Setu\\', which film will rock this Diwali?\" (https://news\\nable.asianetnews.com/entertainment/box-office-prediction-of-thank-god-ram-setu-and-sunda\\ny-report-of-black-adam-kantara-doctor-g-drb-rk8s4u). Asianet News. Archived (https://web.ar\\nchive.org/web/20221024110208/https://newsable.asianetnews.com/entertainment/box-office\\n-prediction-of-thank-god-ram-setu-and-sunday-report-of-black-adam-kantara-doctor-g-drb-rk8\\ns4u) from the original on 24 October 2022. Retrieved 24 October 2022.\\n14. \"Thank God poster: Ajay Devgn\\'s first look as Chitragupt revealed\" (https://www.hindustantim\\nes.com/entertainment/bollywood/thank-god-poster-ajay-devgn-s-first-look-as-chitragupt-reve\\naled-see-pic-101662617444647.html). Hindustan Times. 8 September 2022. Archived (http\\ns://web.archive.org/web/20220908063741/https://www.hindustantimes.com/entertainment/bo\\nllywood/thank-god-poster-ajay-devgn-s-first-look-as-chitragupt-revealed-see-pic-101662617\\n444647.html) from the original on 8 September 2022. Retrieved 8 September 2022.', start_char_idx=2091, end_char_idx=4208, text_template='{metadata_str}\\n\\n{content}', metadata_template='{key}: {value}', metadata_seperator='\\n'), score=0.8524868410471677)], metadata={'ba40e8cb-7960-42b0-a5a2-50d979291833': {'page_label': '5', 'file_name': 'Thank God (film).pdf', 'file_path': 'c:\\\\Users\\\\aryan\\\\Documents\\\\M-PROJECT\\\\movieClaude-dm\\\\butil\\\\tmp\\\\Thank God (film).pdf', 'file_type': 'application/pdf', 'file_size': 310172, 'creation_date': '2024-05-17', 'last_modified_date': '2024-05-17'}, 'ce515d61-4fc1-46af-8d13-48738a3c0b4b': {'page_label': '6', 'file_name': 'Thank God (film).pdf', 'file_path': 'c:\\\\Users\\\\aryan\\\\Documents\\\\M-PROJECT\\\\movieClaude-dm\\\\butil\\\\tmp\\\\Thank God (film).pdf', 'file_type': 'application/pdf', 'file_size': 310172, 'creation_date': '2024-05-17', 'last_modified_date': '2024-05-17'}})"
      ]
     },
     "execution_count": 5,
     "metadata": {},
     "output_type": "execute_result"
    }
   ],
   "source": [
    "response"
   ]
  },
  {
   "cell_type": "code",
   "execution_count": 6,
   "metadata": {},
   "outputs": [
    {
     "data": {
      "text/plain": [
       "Response(response='Saif Ali Khan is the actor in the movie \"Taanaji: The Unsung Warrior\" alongside Ajay Devgn.', source_nodes=[NodeWithScore(node=TextNode(id_='bb2b729e-5810-4dbc-b5bb-376e985bd806', embedding=None, metadata={'page_label': '3', 'file_name': 'Neeraj Pandey.pdf', 'file_path': 'c:\\\\Users\\\\aryan\\\\Documents\\\\M-PROJECT\\\\movieClaude-dm\\\\butil\\\\tmp\\\\Neeraj Pandey.pdf', 'file_type': 'application/pdf', 'file_size': 202658, 'creation_date': '2024-05-17', 'last_modified_date': '2024-05-17'}, excluded_embed_metadata_keys=['file_name', 'file_type', 'file_size', 'creation_date', 'last_modified_date', 'last_accessed_date'], excluded_llm_metadata_keys=['file_name', 'file_type', 'file_size', 'creation_date', 'last_modified_date', 'last_accessed_date'], relationships={<NodeRelationship.SOURCE: '1'>: RelatedNodeInfo(node_id='272701f0-a5ef-4464-ae6d-e40b4cd31d09', node_type=<ObjectType.DOCUMENT: '4'>, metadata={'page_label': '3', 'file_name': 'Neeraj Pandey.pdf', 'file_path': 'c:\\\\Users\\\\aryan\\\\Documents\\\\M-PROJECT\\\\movieClaude-dm\\\\butil\\\\tmp\\\\Neeraj Pandey.pdf', 'file_type': 'application/pdf', 'file_size': 202658, 'creation_date': '2024-05-17', 'last_modified_date': '2024-05-17'}, hash='90da66b029371f4fcb99f58ad954156d8eaef32555faa43f721279ca6b1b6a8e')}, text='Currently, he is working on his next film, a full length feature film, Chanak ya. This will be his first\\nassociation w ith Ajay Devgn.[6]\\nYear Title DirectorProducerWriter\\n2008A Wednesday\\n2011Taryanche Bait\\n2013Special 26\\n2014The Royal Bengal Tiger\\nTotal Siyapaa\\n2015Baby\\n2016Rustom\\nM.S. Dhoni: The Untold Story\\nSaat Uchakkey\\n2017Naam Shabana\\nToilet: Ek Prem Katha\\n2018Aiyaary\\nMissing\\n2022Operation Romeo\\nVikram Vedha\\n2023Chengiz\\nYear Title CreatorDirectorProducerWriter Notes\\n2020–presentSpecial OPS\\n2021Secrets of Sinauli\\n Documentary\\nSpecial Ops 1.5: The Himmat Story\\n2022Secrets of the Kohinoor\\nDocumentary\\nBando Me Tha Dum\\nKhakee: The Bihar Chapter\\n2023 The Freelancer\\n2024 Khakee: The Bengal Chapter\\nGhalib Danger (2013)Filmography\\nTelevision\\nBibliography', start_char_idx=0, end_char_idx=761, text_template='{metadata_str}\\n\\n{content}', metadata_template='{key}: {value}', metadata_seperator='\\n'), score=0.8384644688848065), NodeWithScore(node=TextNode(id_='83db33db-09de-45fb-9222-807317618d0b', embedding=None, metadata={'page_label': '13', 'file_name': 'Tanhaji.pdf', 'file_path': 'c:\\\\Users\\\\aryan\\\\Documents\\\\M-PROJECT\\\\movieClaude-dm\\\\butil\\\\tmp\\\\Tanhaji.pdf', 'file_type': 'application/pdf', 'file_size': 533555, 'creation_date': '2024-05-17', 'last_modified_date': '2024-05-17'}, excluded_embed_metadata_keys=['file_name', 'file_type', 'file_size', 'creation_date', 'last_modified_date', 'last_accessed_date'], excluded_llm_metadata_keys=['file_name', 'file_type', 'file_size', 'creation_date', 'last_modified_date', 'last_accessed_date'], relationships={<NodeRelationship.SOURCE: '1'>: RelatedNodeInfo(node_id='86cc5e41-8805-4c4b-87cf-b295ae20d094', node_type=<ObjectType.DOCUMENT: '4'>, metadata={'page_label': '13', 'file_name': 'Tanhaji.pdf', 'file_path': 'c:\\\\Users\\\\aryan\\\\Documents\\\\M-PROJECT\\\\movieClaude-dm\\\\butil\\\\tmp\\\\Tanhaji.pdf', 'file_type': 'application/pdf', 'file_size': 533555, 'creation_date': '2024-05-17', 'last_modified_date': '2024-05-17'}, hash='bdbf914a8e7b1249f0b8c8def3d6351a40bb86b18c5e125c70441876038e078d'), <NodeRelationship.PREVIOUS: '2'>: RelatedNodeInfo(node_id='fa0fe030-df77-4340-815a-9cf8d272b080', node_type=<ObjectType.TEXT: '1'>, metadata={'page_label': '13', 'file_name': 'Tanhaji.pdf', 'file_path': 'c:\\\\Users\\\\aryan\\\\Documents\\\\M-PROJECT\\\\movieClaude-dm\\\\butil\\\\tmp\\\\Tanhaji.pdf', 'file_type': 'application/pdf', 'file_size': 533555, 'creation_date': '2024-05-17', 'last_modified_date': '2024-05-17'}, hash='e182dd4f160239d7958d7fcbd11d331285dd32357b2576e81e4f051a131529c4')}, text='Zee News. 23 October 2018. Retrieved\\n25 December 2020.\\n35. \"\\'Taanaji-The Unsung Warrior\\': Is Kajol part of Ajay Devgn\\'s most awaited project? – Times\\nof India\" (https://timesofindia.indiatimes.com/entertainment/hindi/bollywood/news/tanaji-the-u\\nnsung-warrior-is-kajol-part-of-ajay-devgns-most-awaited-project/articleshow/66051137.cms).\\nThe Times of India. Retrieved 25 December 2020.\\n36. Hungama, Bollywood (4 January 2019). \"Saif Ali Khan plays the villain in Ajay Devgn starrer\\nTaanaji : Bollywood News – Bollywood Hungama\" (https://www.bollywoodhungama.com/ne\\nws/bollywood/saif-ali-khan-plays-villain-ajay-devgn-starrer-taanaji/). Bollywood Hungama.\\nRetrieved 25 December 2020.\\n37. \"Saif Ali Khan on Playing Villain in Taanaji: He Just Happens to be on the Wrong Side\" (http\\ns://www.news18.com/news/movies/saif-ali-khan-on-playing-villain-in-taanaji-he-just-happen\\ns-to-be-on-the-wrong-side-2050057.html). News18. 27 February 2019. Retrieved\\n25 December 2020.\\n38. \"Ajay Devgn begins shooting for Taanaji The Unsung Warrior\" (https://www.hindustantimes.c\\nom/bollywood/ajay-devgn-begins-shooting-for-taanaji-the-unsung-warrior/story-hvN5ivTvXI\\nUcTzbtKNe78I.html). hindustantimes.com. 25 September 2018. Retrieved 25 December\\n2020.', start_char_idx=2495, end_char_idx=3726, text_template='{metadata_str}\\n\\n{content}', metadata_template='{key}: {value}', metadata_seperator='\\n'), score=0.8325994536927562)], metadata={'bb2b729e-5810-4dbc-b5bb-376e985bd806': {'page_label': '3', 'file_name': 'Neeraj Pandey.pdf', 'file_path': 'c:\\\\Users\\\\aryan\\\\Documents\\\\M-PROJECT\\\\movieClaude-dm\\\\butil\\\\tmp\\\\Neeraj Pandey.pdf', 'file_type': 'application/pdf', 'file_size': 202658, 'creation_date': '2024-05-17', 'last_modified_date': '2024-05-17'}, '83db33db-09de-45fb-9222-807317618d0b': {'page_label': '13', 'file_name': 'Tanhaji.pdf', 'file_path': 'c:\\\\Users\\\\aryan\\\\Documents\\\\M-PROJECT\\\\movieClaude-dm\\\\butil\\\\tmp\\\\Tanhaji.pdf', 'file_type': 'application/pdf', 'file_size': 533555, 'creation_date': '2024-05-17', 'last_modified_date': '2024-05-17'}})"
      ]
     },
     "execution_count": 6,
     "metadata": {},
     "output_type": "execute_result"
    }
   ],
   "source": [
    "query_engine.query(\"Who is the Ajay Devgan is actor is which movie?\")"
   ]
  },
  {
   "cell_type": "code",
   "execution_count": null,
   "metadata": {},
   "outputs": [],
   "source": []
  }
 ],
 "metadata": {
  "kernelspec": {
   "display_name": "RAG",
   "language": "python",
   "name": "python3"
  },
  "language_info": {
   "codemirror_mode": {
    "name": "ipython",
    "version": 3
   },
   "file_extension": ".py",
   "mimetype": "text/x-python",
   "name": "python",
   "nbconvert_exporter": "python",
   "pygments_lexer": "ipython3",
   "version": "3.11.8"
  }
 },
 "nbformat": 4,
 "nbformat_minor": 2
}
