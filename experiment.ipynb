{
 "cells": [
  {
   "cell_type": "code",
   "execution_count": 3,
   "metadata": {},
   "outputs": [],
   "source": [
    "from llama_index.core import (\n",
    "    ServiceContext,\n",
    "    PromptHelper,\n",
    "    VectorStoreIndex,\n",
    "    SimpleDirectoryReader,\n",
    "    StorageContext,\n",
    "    load_index_from_storage\n",
    ")\n",
    "\n",
    "from llama_index.embeddings.openai import OpenAIEmbedding\n",
    "from llama_index.llms.openai import OpenAI\n",
    "from llama_index.core.node_parser import SimpleNodeParser\n",
    "import tiktoken\n",
    "# from ..prompts import RecommendationPrompt\n",
    "from typing import List\n",
    "import logging"
   ]
  },
  {
   "cell_type": "code",
   "execution_count": 15,
   "metadata": {},
   "outputs": [],
   "source": [
    "class RAGProvider:\n",
    "\n",
    "    def __init__(\n",
    "        self,\n",
    "        api_key,\n",
    "        model: str = 'gpt-3.5-turbo',\n",
    "        persist_dir: str = \"/tmp\"\n",
    "    ):\n",
    "\n",
    "        self.model = model\n",
    "        self.persist_dir = persist_dir\n",
    "\n",
    "        self.llm = OpenAI(\n",
    "            model = model,\n",
    "            temperature = 0,\n",
    "            max_tokens = 256,\n",
    "            api_key = api_key\n",
    "        )\n",
    "\n",
    "        self.embed_model = OpenAIEmbedding(api_key = api_key)\n",
    "\n",
    "    def create_index(\n",
    "        self,\n",
    "        separator: str = \" \",\n",
    "        chunk_size: int = 1024,\n",
    "        chunk_overlap: int = 20,\n",
    "        prompt_context_window: int = 4096,\n",
    "        num_output: int = 256,\n",
    "        chunk_overlap_ratio: float = 0.1,\n",
    "        chunk_size_limit = None,\n",
    "        input_files: str = \"butil/tmp/\"\n",
    "    ):\n",
    "\n",
    "        node_parser = SimpleNodeParser.from_defaults(\n",
    "            separator = separator,\n",
    "            chunk_size = chunk_size,\n",
    "            chunk_overlap = chunk_overlap,\n",
    "            tokenizer = tiktoken.encoding_for_model(self.model).encode\n",
    "        )\n",
    "\n",
    "        prompt_helper = PromptHelper(\n",
    "            context_window = prompt_context_window, \n",
    "            num_output = num_output, \n",
    "            chunk_overlap_ratio = chunk_overlap_ratio, \n",
    "            chunk_size_limit = chunk_size_limit\n",
    "        )\n",
    "\n",
    "        service_context = ServiceContext.from_defaults(\n",
    "            llm = self.llm,\n",
    "            embed_model = self.embed_model,\n",
    "            node_parser = node_parser,\n",
    "            prompt_helper = prompt_helper\n",
    "        )\n",
    "\n",
    "        documents = SimpleDirectoryReader(input_files=input_files).load_data()\n",
    "\n",
    "        index = VectorStoreIndex.from_documents(\n",
    "            documents, \n",
    "            service_context = service_context\n",
    "        )\n",
    "\n",
    "        index.storage_context.persist(persist_dir = self.persist_dir)"
   ]
  },
  {
   "cell_type": "code",
   "execution_count": 5,
   "metadata": {},
   "outputs": [],
   "source": [
    "import dotenv"
   ]
  },
  {
   "cell_type": "code",
   "execution_count": 6,
   "metadata": {},
   "outputs": [
    {
     "data": {
      "text/plain": [
       "True"
      ]
     },
     "execution_count": 6,
     "metadata": {},
     "output_type": "execute_result"
    }
   ],
   "source": [
    "dotenv.load_dotenv()"
   ]
  },
  {
   "cell_type": "code",
   "execution_count": 7,
   "metadata": {},
   "outputs": [],
   "source": [
    "import os"
   ]
  },
  {
   "cell_type": "code",
   "execution_count": 8,
   "metadata": {},
   "outputs": [],
   "source": [
    "# read OPENAI_API_KEY from .env file\n",
    "api_key = os.getenv(\"OPENAI_API_KEY\")"
   ]
  },
  {
   "cell_type": "code",
   "execution_count": 16,
   "metadata": {},
   "outputs": [],
   "source": [
    "provider = RAGProvider(api_key = api_key)"
   ]
  },
  {
   "cell_type": "code",
   "execution_count": 17,
   "metadata": {},
   "outputs": [
    {
     "name": "stderr",
     "output_type": "stream",
     "text": [
      "/var/folders/0j/d0xd373d2tb7zdzcsqrk3mpw0000gn/T/ipykernel_84751/278325373.py:48: DeprecationWarning: Call to deprecated class method from_defaults. (ServiceContext is deprecated, please use `llama_index.settings.Settings` instead.) -- Deprecated since version 0.10.0.\n",
      "  service_context = ServiceContext.from_defaults(\n"
     ]
    },
    {
     "ename": "ValueError",
     "evalue": "File butil/tmp/ does not exist.",
     "output_type": "error",
     "traceback": [
      "\u001b[0;31m---------------------------------------------------------------------------\u001b[0m",
      "\u001b[0;31mValueError\u001b[0m                                Traceback (most recent call last)",
      "Cell \u001b[0;32mIn[17], line 1\u001b[0m\n\u001b[0;32m----> 1\u001b[0m \u001b[43mprovider\u001b[49m\u001b[38;5;241;43m.\u001b[39;49m\u001b[43mcreate_index\u001b[49m\u001b[43m(\u001b[49m\u001b[43m)\u001b[49m\n",
      "Cell \u001b[0;32mIn[15], line 55\u001b[0m, in \u001b[0;36mRAGProvider.create_index\u001b[0;34m(self, separator, chunk_size, chunk_overlap, prompt_context_window, num_output, chunk_overlap_ratio, chunk_size_limit, input_files)\u001b[0m\n\u001b[1;32m     41\u001b[0m prompt_helper \u001b[38;5;241m=\u001b[39m PromptHelper(\n\u001b[1;32m     42\u001b[0m     context_window \u001b[38;5;241m=\u001b[39m prompt_context_window, \n\u001b[1;32m     43\u001b[0m     num_output \u001b[38;5;241m=\u001b[39m num_output, \n\u001b[1;32m     44\u001b[0m     chunk_overlap_ratio \u001b[38;5;241m=\u001b[39m chunk_overlap_ratio, \n\u001b[1;32m     45\u001b[0m     chunk_size_limit \u001b[38;5;241m=\u001b[39m chunk_size_limit\n\u001b[1;32m     46\u001b[0m )\n\u001b[1;32m     48\u001b[0m service_context \u001b[38;5;241m=\u001b[39m ServiceContext\u001b[38;5;241m.\u001b[39mfrom_defaults(\n\u001b[1;32m     49\u001b[0m     llm \u001b[38;5;241m=\u001b[39m \u001b[38;5;28mself\u001b[39m\u001b[38;5;241m.\u001b[39mllm,\n\u001b[1;32m     50\u001b[0m     embed_model \u001b[38;5;241m=\u001b[39m \u001b[38;5;28mself\u001b[39m\u001b[38;5;241m.\u001b[39membed_model,\n\u001b[1;32m     51\u001b[0m     node_parser \u001b[38;5;241m=\u001b[39m node_parser,\n\u001b[1;32m     52\u001b[0m     prompt_helper \u001b[38;5;241m=\u001b[39m prompt_helper\n\u001b[1;32m     53\u001b[0m )\n\u001b[0;32m---> 55\u001b[0m documents \u001b[38;5;241m=\u001b[39m \u001b[43mSimpleDirectoryReader\u001b[49m\u001b[43m(\u001b[49m\u001b[43minput_files\u001b[49m\u001b[38;5;241;43m=\u001b[39;49m\u001b[43minput_files\u001b[49m\u001b[43m)\u001b[49m\u001b[38;5;241m.\u001b[39mload_data()\n\u001b[1;32m     57\u001b[0m index \u001b[38;5;241m=\u001b[39m VectorStoreIndex\u001b[38;5;241m.\u001b[39mfrom_documents(\n\u001b[1;32m     58\u001b[0m     documents, \n\u001b[1;32m     59\u001b[0m     service_context \u001b[38;5;241m=\u001b[39m service_context\n\u001b[1;32m     60\u001b[0m )\n\u001b[1;32m     62\u001b[0m index\u001b[38;5;241m.\u001b[39mstorage_context\u001b[38;5;241m.\u001b[39mpersist(persist_dir \u001b[38;5;241m=\u001b[39m \u001b[38;5;28mself\u001b[39m\u001b[38;5;241m.\u001b[39mpersist_dir)\n",
      "File \u001b[0;32m~/miniconda3/envs/RAG/lib/python3.11/site-packages/llama_index/core/readers/file/base.py:207\u001b[0m, in \u001b[0;36mSimpleDirectoryReader.__init__\u001b[0;34m(self, input_dir, input_files, exclude, exclude_hidden, errors, recursive, encoding, filename_as_id, required_exts, file_extractor, num_files_limit, file_metadata, fs)\u001b[0m\n\u001b[1;32m    205\u001b[0m \u001b[38;5;28;01mfor\u001b[39;00m path \u001b[38;5;129;01min\u001b[39;00m input_files:\n\u001b[1;32m    206\u001b[0m     \u001b[38;5;28;01mif\u001b[39;00m \u001b[38;5;129;01mnot\u001b[39;00m \u001b[38;5;28mself\u001b[39m\u001b[38;5;241m.\u001b[39mfs\u001b[38;5;241m.\u001b[39misfile(path):\n\u001b[0;32m--> 207\u001b[0m         \u001b[38;5;28;01mraise\u001b[39;00m \u001b[38;5;167;01mValueError\u001b[39;00m(\u001b[38;5;124mf\u001b[39m\u001b[38;5;124m\"\u001b[39m\u001b[38;5;124mFile \u001b[39m\u001b[38;5;132;01m{\u001b[39;00mpath\u001b[38;5;132;01m}\u001b[39;00m\u001b[38;5;124m does not exist.\u001b[39m\u001b[38;5;124m\"\u001b[39m)\n\u001b[1;32m    208\u001b[0m     input_file \u001b[38;5;241m=\u001b[39m _Path(path)\n\u001b[1;32m    209\u001b[0m     \u001b[38;5;28mself\u001b[39m\u001b[38;5;241m.\u001b[39minput_files\u001b[38;5;241m.\u001b[39mappend(input_file)\n",
      "\u001b[0;31mValueError\u001b[0m: File butil/tmp/ does not exist."
     ]
    }
   ],
   "source": [
    "provider.create_index()"
   ]
  },
  {
   "cell_type": "code",
   "execution_count": 18,
   "metadata": {},
   "outputs": [],
   "source": [
    "documents = SimpleDirectoryReader(\"butil/tmp/\").load_data()"
   ]
  },
  {
   "cell_type": "code",
   "execution_count": null,
   "metadata": {},
   "outputs": [],
   "source": []
  }
 ],
 "metadata": {
  "kernelspec": {
   "display_name": "RAG",
   "language": "python",
   "name": "python3"
  },
  "language_info": {
   "codemirror_mode": {
    "name": "ipython",
    "version": 3
   },
   "file_extension": ".py",
   "mimetype": "text/x-python",
   "name": "python",
   "nbconvert_exporter": "python",
   "pygments_lexer": "ipython3",
   "version": "3.11.8"
  }
 },
 "nbformat": 4,
 "nbformat_minor": 2
}
