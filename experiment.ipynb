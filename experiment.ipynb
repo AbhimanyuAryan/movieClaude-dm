{
 "cells": [
  {
   "cell_type": "code",
   "execution_count": 10,
   "metadata": {},
   "outputs": [],
   "source": [
    "from llama_index.core import (\n",
    "    ServiceContext,\n",
    "    PromptHelper,\n",
    "    VectorStoreIndex,\n",
    "    SimpleDirectoryReader,\n",
    "    StorageContext,\n",
    "    load_index_from_storage\n",
    ")\n",
    "\n",
    "from llama_index.embeddings.openai import OpenAIEmbedding\n",
    "from llama_index.llms.openai import OpenAI\n",
    "from llama_index.core.node_parser import SimpleNodeParser\n",
    "import tiktoken\n",
    "# from ..prompts import RecommendationPrompt\n",
    "from typing import List\n",
    "import logging"
   ]
  },
  {
   "cell_type": "code",
   "execution_count": 11,
   "metadata": {},
   "outputs": [],
   "source": [
    "class RAGProvider:\n",
    "\n",
    "    def __init__(\n",
    "        self,\n",
    "        api_key,\n",
    "        model: str = 'gpt-3.5-turbo',\n",
    "        persist_dir: str = \"tmp\"\n",
    "    ):\n",
    "\n",
    "        self.model = model\n",
    "        self.persist_dir = persist_dir\n",
    "\n",
    "        self.llm = OpenAI(\n",
    "            model = model,\n",
    "            temperature = 0,\n",
    "            max_tokens = 256,\n",
    "            api_key = api_key\n",
    "        )\n",
    "\n",
    "        self.embed_model = OpenAIEmbedding(api_key = api_key)\n",
    "\n",
    "    def create_index(\n",
    "        self,\n",
    "        separator: str = \" \",\n",
    "        chunk_size: int = 1024,\n",
    "        chunk_overlap: int = 20,\n",
    "        prompt_context_window: int = 4096,\n",
    "        num_output: int = 256,\n",
    "        chunk_overlap_ratio: float = 0.1,\n",
    "        chunk_size_limit = None,\n",
    "        input_files: str = \"butil/tmp/\"\n",
    "    ):\n",
    "\n",
    "        node_parser = SimpleNodeParser.from_defaults(\n",
    "            separator = separator,\n",
    "            chunk_size = chunk_size,\n",
    "            chunk_overlap = chunk_overlap,\n",
    "            tokenizer = tiktoken.encoding_for_model(self.model).encode\n",
    "        )\n",
    "\n",
    "        prompt_helper = PromptHelper(\n",
    "            context_window = prompt_context_window, \n",
    "            num_output = num_output, \n",
    "            chunk_overlap_ratio = chunk_overlap_ratio, \n",
    "            chunk_size_limit = chunk_size_limit\n",
    "        )\n",
    "\n",
    "        service_context = ServiceContext.from_defaults(\n",
    "            llm = self.llm,\n",
    "            embed_model = self.embed_model,\n",
    "            node_parser = node_parser,\n",
    "            prompt_helper = prompt_helper\n",
    "        )\n",
    "\n",
    "        documents = SimpleDirectoryReader(input_files).load_data()\n",
    "\n",
    "        index = VectorStoreIndex.from_documents(\n",
    "            documents, \n",
    "            service_context = service_context\n",
    "        )\n",
    "\n",
    "        index.storage_context.persist(persist_dir = self.persist_dir)"
   ]
  },
  {
   "cell_type": "code",
   "execution_count": 12,
   "metadata": {},
   "outputs": [],
   "source": [
    "import dotenv"
   ]
  },
  {
   "cell_type": "code",
   "execution_count": 13,
   "metadata": {},
   "outputs": [
    {
     "data": {
      "text/plain": [
       "True"
      ]
     },
     "execution_count": 13,
     "metadata": {},
     "output_type": "execute_result"
    }
   ],
   "source": [
    "dotenv.load_dotenv()"
   ]
  },
  {
   "cell_type": "code",
   "execution_count": 14,
   "metadata": {},
   "outputs": [],
   "source": [
    "import os"
   ]
  },
  {
   "cell_type": "code",
   "execution_count": 15,
   "metadata": {},
   "outputs": [],
   "source": [
    "# read OPENAI_API_KEY from .env file\n",
    "api_key = os.getenv(\"OPENAI_API_KEY\")"
   ]
  },
  {
   "cell_type": "code",
   "execution_count": 16,
   "metadata": {},
   "outputs": [],
   "source": [
    "provider = RAGProvider(api_key = api_key)"
   ]
  },
  {
   "cell_type": "code",
   "execution_count": 17,
   "metadata": {},
   "outputs": [
    {
     "name": "stderr",
     "output_type": "stream",
     "text": [
      "/var/folders/0j/d0xd373d2tb7zdzcsqrk3mpw0000gn/T/ipykernel_27153/607528180.py:48: DeprecationWarning: Call to deprecated class method from_defaults. (ServiceContext is deprecated, please use `llama_index.settings.Settings` instead.) -- Deprecated since version 0.10.0.\n",
      "  service_context = ServiceContext.from_defaults(\n"
     ]
    }
   ],
   "source": [
    "provider.create_index()"
   ]
  },
  {
   "cell_type": "code",
   "execution_count": null,
   "metadata": {},
   "outputs": [],
   "source": []
  }
 ],
 "metadata": {
  "kernelspec": {
   "display_name": "RAG",
   "language": "python",
   "name": "python3"
  },
  "language_info": {
   "codemirror_mode": {
    "name": "ipython",
    "version": 3
   },
   "file_extension": ".py",
   "mimetype": "text/x-python",
   "name": "python",
   "nbconvert_exporter": "python",
   "pygments_lexer": "ipython3",
   "version": "3.11.8"
  }
 },
 "nbformat": 4,
 "nbformat_minor": 2
}
