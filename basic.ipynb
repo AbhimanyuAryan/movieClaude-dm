{
 "cells": [
  {
   "cell_type": "code",
   "execution_count": 1,
   "metadata": {},
   "outputs": [
    {
     "data": {
      "text/plain": [
       "True"
      ]
     },
     "execution_count": 1,
     "metadata": {},
     "output_type": "execute_result"
    }
   ],
   "source": [
    "# read dotenv file\n",
    "from dotenv import load_dotenv\n",
    "load_dotenv()"
   ]
  },
  {
   "cell_type": "code",
   "execution_count": 3,
   "metadata": {},
   "outputs": [],
   "source": [
    "from llama_index.core import VectorStoreIndex, SimpleDirectoryReader\n",
    "\n",
    "documents = SimpleDirectoryReader(\"butil/tmp/\").load_data()\n",
    "index = VectorStoreIndex.from_documents(documents)"
   ]
  },
  {
   "cell_type": "code",
   "execution_count": 11,
   "metadata": {},
   "outputs": [],
   "source": [
    "query_engine = index.as_query_engine()\n",
    "response = query_engine.query(\"\"\"Who is the actor in ThankGod movie?\"\"\")"
   ]
  },
  {
   "cell_type": "code",
   "execution_count": 12,
   "metadata": {},
   "outputs": [
    {
     "data": {
      "text/plain": [
       "Response(response='Ajay Devgn, Sidharth Malhotra, and Rakul Preet Singh are the actors in the movie \"Thank God\".', source_nodes=[NodeWithScore(node=TextNode(id_='99204861-13b7-435d-af58-7d45719e984b', embedding=None, metadata={'page_label': '1', 'file_name': 'Thank God (film).pdf', 'file_path': '/Users/abhi/Git/M-PROJECT/movieClaude-dm/butil/tmp/Thank God (film).pdf', 'file_type': 'application/pdf', 'file_size': 310172, 'creation_date': '2024-04-21', 'last_modified_date': '2024-04-21'}, excluded_embed_metadata_keys=['file_name', 'file_type', 'file_size', 'creation_date', 'last_modified_date', 'last_accessed_date'], excluded_llm_metadata_keys=['file_name', 'file_type', 'file_size', 'creation_date', 'last_modified_date', 'last_accessed_date'], relationships={<NodeRelationship.SOURCE: '1'>: RelatedNodeInfo(node_id='f2a566cd-a38d-424e-ae63-410b9069dfc5', node_type=<ObjectType.DOCUMENT: '4'>, metadata={'page_label': '1', 'file_name': 'Thank God (film).pdf', 'file_path': '/Users/abhi/Git/M-PROJECT/movieClaude-dm/butil/tmp/Thank God (film).pdf', 'file_type': 'application/pdf', 'file_size': 310172, 'creation_date': '2024-04-21', 'last_modified_date': '2024-04-21'}, hash='2a231285e1da0bad6edc4b08c6bc1c0dbbeb258c996a3023a88d2970fc074de6'), <NodeRelationship.PREVIOUS: '2'>: RelatedNodeInfo(node_id='f337f876-a3ec-42f5-85cf-662659177538', node_type=<ObjectType.TEXT: '1'>, metadata={'page_label': '23', 'file_name': 'Thalaivii.pdf', 'file_path': '/Users/abhi/Git/M-PROJECT/movieClaude-dm/butil/tmp/Thalaivii.pdf', 'file_type': 'application/pdf', 'file_size': 644802, 'creation_date': '2024-04-21', 'last_modified_date': '2024-04-21'}, hash='ba1936d793262a634e47af662ecf2cdf13bbd75c48120e9b5b4a2ad153a3b131'), <NodeRelationship.NEXT: '3'>: RelatedNodeInfo(node_id='b91d014f-23f9-44a4-bde5-b710b61e6462', node_type=<ObjectType.TEXT: '1'>, metadata={}, hash='b0193d2dbce765a26c0e2b9035e64d3d2a66248d00a08b31dcf5d1870cc5a42c')}, text=\"Thank God\\nTheatrical release poster\\nDirected by Indra Kumar\\nWritten by Aakash Kaushik\\nMadhur Sharma\\nBased on Sorte kugler\\n(2009)\\nProduced by Bhushan Kumar\\nKrishan Kumar\\nAshok Thakeria\\nSunir Kheterpal\\nDeepak Mukut\\nAnand Pandit\\nMarkand\\nAdhikari\\nStarring Ajay Devgn\\nSidharth\\nMalhotra\\nRakul Preet\\nSingh\\nCinematographyAseem Bajaj\\nEdited by Dharmendra\\nSharmaThank God (film)\\nThank God[5] is a 2022 Indian Hindi-langua ge fantasy comedy\\ndrama film directed by Indra Kumar.[6][7] It is an official remake\\nof the 2009 Danish film Sorte kugler (What Goes Around ).[8][9] It\\nstars Ajay Devgn, Sidharth Malhotra and Rakul Preet\\nSingh.[10][11]\\nThank  God was released theatrically on 25 October 2022 during\\nDiwali festivities. It received mixed reviews from critics and was a\\ncommercial failure.[4][12][13]\\nAyaan Kapoor is an extremely greedy, selfish and egoistic real\\nestate businessman who is in a debt of ₹16 crores. When he’s in a\\nbad mood, he yells at people and expects them to be nice to him\\nwhen he’s happy. His day to day life involves carrying out his real\\nestate business in 80% black and 20% white money, visiting a\\nnearby Hanuman temple every Tuesday and Saturday to smear the\\nidol of Hanuman with holy paste, offer laddus , pour oil on the idol\\nand greedily ask for petty things, then watching his favourite\\nactress Nora Fatehi’s songs. He has a boom ing real estate\\nbusiness, but falls into debt due to the demonetisation, as he has a\\nlot of black money. He wants to sell his mansion to clear his debts\\nbut can’t find any buye r and starts living at his wife's hous e with\\nhis wife, Inspector Ruhi, and da ughter Pihu.\\nOne day, Ayaan gets involved in a road accident, and regains\\nconsciousness in Heaven, where Yamaduta and Chitragupta give\\nhim a chance to go back to Earth and survive the accident, by\\nasking him to play a game called Game of Life. He is shown a\\nvision of his physical body currently being in the operation theatre\\nand is told by CG that his surgery will take 5 hours, during which\\nhis soul will play the game.\\nThe rules of the game: There are two containers - one for white\\nballs, which represent Ayaan’s positives, and the other for black\\nballs, which represent his sins and weaknesses. The containers\\nwould be filled with white or black balls by the residents of\\nheaven (who are the audience members of the game), which will\\nbe considered their votes. The votes would be given based on\\nhow Ayaan does his virtual tasks and how he behaves in a certainPlot\", start_char_idx=0, end_char_idx=2478, text_template='{metadata_str}\\n\\n{content}', metadata_template='{key}: {value}', metadata_seperator='\\n'), score=0.8541314181539168), NodeWithScore(node=TextNode(id_='aaad8abb-baa5-4f40-b05e-9a4b34cc265e', embedding=None, metadata={'page_label': '5', 'file_name': 'Thank God (film).pdf', 'file_path': '/Users/abhi/Git/M-PROJECT/movieClaude-dm/butil/tmp/Thank God (film).pdf', 'file_type': 'application/pdf', 'file_size': 310172, 'creation_date': '2024-04-21', 'last_modified_date': '2024-04-21'}, excluded_embed_metadata_keys=['file_name', 'file_type', 'file_size', 'creation_date', 'last_modified_date', 'last_accessed_date'], excluded_llm_metadata_keys=['file_name', 'file_type', 'file_size', 'creation_date', 'last_modified_date', 'last_accessed_date'], relationships={<NodeRelationship.SOURCE: '1'>: RelatedNodeInfo(node_id='bf1e833a-ff5b-4875-a8f5-61142523d83f', node_type=<ObjectType.DOCUMENT: '4'>, metadata={'page_label': '5', 'file_name': 'Thank God (film).pdf', 'file_path': '/Users/abhi/Git/M-PROJECT/movieClaude-dm/butil/tmp/Thank God (film).pdf', 'file_type': 'application/pdf', 'file_size': 310172, 'creation_date': '2024-04-21', 'last_modified_date': '2024-04-21'}, hash='371fa3064fcb60182ac08eca614f75d326b5a4fff3d237d92ad4f05f5843feb4'), <NodeRelationship.PREVIOUS: '2'>: RelatedNodeInfo(node_id='fc578873-5566-40ad-aab9-e756d417a343', node_type=<ObjectType.TEXT: '1'>, metadata={'page_label': '4', 'file_name': 'Thank God (film).pdf', 'file_path': '/Users/abhi/Git/M-PROJECT/movieClaude-dm/butil/tmp/Thank God (film).pdf', 'file_type': 'application/pdf', 'file_size': 310172, 'creation_date': '2024-04-21', 'last_modified_date': '2024-04-21'}, hash='b922500c4f525628d2c95e1aa3793de4d3e87b42aab9ba236933c6c7abeeda0e'), <NodeRelationship.NEXT: '3'>: RelatedNodeInfo(node_id='5fcb41bd-4e63-41dc-ad80-9b5d8cd23e64', node_type=<ObjectType.TEXT: '1'>, metadata={}, hash='47f5f2f27b532032dc3d6346573f403cf9e8c56f34f71edbd4f02987f88beca5')}, text='pure comedy\".[31] Sonil Dedhia of News 18 rated the film 3 out of 5 stars and wrote \"Thank  God is an\\nentertainer with its share of funny moments\".[32] Pratikshya Mishra of The Quint rated the film 2.5 out of 5\\nstars and wrote \"The film goes from comedy to grief to introspection rapidly. While all these emotions are\\ndeployed well individually, as a whole, the film suffers from this constant tonal shift\".[33] Tushar Joshi of\\nIndia Today  rated the film 2 out of 5 stars and wrote \"Despite Ajay\\'s star power and Siddha rth\\'s charm, the\\nfilm fails to hol d the viewers\\' interest\".[34]\\n1. \"Thank God\" (https://www.bbfc.co.uk/release/thank-god-q29sbgvjdglvbjpwwc0xmda3odg5).\\nBritish Board of Film Classification. Archived (https://web.archive.org/web/20221021154635/\\nhttps://www.bbfc.co.uk/release/thank-god-q29sbgvjdglvbjpwwc0xmda3odg5) from the\\noriginal on 21 October 2022. Retrieved 18 October 2022.\\n2. \"Ajay Devgn-Sidharth Malhotra movie, Thank God: Opening weekend gets lukewarm\\nresponse\" (https://economictimes.indiatimes.com/news/new-updates/ajay-devgn-sidharth-m\\nalhotra-movie-thank-god-opening-weekend-gets-lukewarm-response/articleshow/95095370.\\ncms). The Economic Times. 26 October 2022. Archived (https://web.archive.org/web/202211\\n05155232/https://economictimes.indiatimes.com/news/new-updates/ajay-devgn-sidharth-ma\\nlhotra-movie-thank-god-opening-weekend-gets-lukewarm-response/articleshow/95095370.c\\nms) from the original on 5 November 2022. Retrieved 26 October 2022.\\n3. \"Thank God (2022)- Box Office India\" (https://boxofficeindia.com/movie.php?movieid=6206).\\nBox Office India. Archived (https://web.archive.org/web/20230605202206/https://boxofficeind\\nia.com/movie.php?movieid=6206) from the original on 5 June 2023. Retrieved 10 December\\n2022.\\n4. \"Thank God Box Office\" (https://www.bollywoodhungama.com/movie/thank-god/box-office/).\\nBollywood Hungama. 25 October 2022. Archived (https://web.archive.org/web/20230129084\\n301/https://www.bollywoodhungama.com/movie/thank-god/box-office/) from the original on\\n29 January 2023. Retrieved 3 November 2022.\\n5. \"Thank God\" (https://www.bbfc.co.uk/release/thank-god-q29sbgvjdglvbjpwwc0xmda3odg5).\\nBritish Board of Film Classification. Archived (https://web.archive.org/web/20221021154635/\\nhttps://www.bbfc.co.uk/release/thank-god-q29sbgvjdglvbjpwwc0xmda3odg5) from the\\noriginal on 21 October 2022. Retrieved 18 October 2022.\\n6. \"Ajay Devgn, Sidharth Malhotra, Rakul Preet Singh to star in Indra Kumar\\'s Thank God\" (http\\ns://www.indiatvnews.com/entertainment/bollywood/ajay-devgn-sidharth-malhotra-rakul-preet\\n-singh-to-star-in-indra-kumar-s-thank-god-676548). India TV. 7 January 2021. Archived (http\\ns://web.archive.org/web/20210227125958/https://www.indiatvnews.com/entertainment/bolly\\nwood/ajay-devgn-sidharth-malhotra-rakul-preet-singh-to-star-in-indra-kumar-s-thank-god-67\\n6548) from the original on 27 February 2021. Retrieved 16 February 2021.\\n7.', start_char_idx=0, end_char_idx=2912, text_template='{metadata_str}\\n\\n{content}', metadata_template='{key}: {value}', metadata_seperator='\\n'), score=0.8520700557572016)], metadata={'99204861-13b7-435d-af58-7d45719e984b': {'page_label': '1', 'file_name': 'Thank God (film).pdf', 'file_path': '/Users/abhi/Git/M-PROJECT/movieClaude-dm/butil/tmp/Thank God (film).pdf', 'file_type': 'application/pdf', 'file_size': 310172, 'creation_date': '2024-04-21', 'last_modified_date': '2024-04-21'}, 'aaad8abb-baa5-4f40-b05e-9a4b34cc265e': {'page_label': '5', 'file_name': 'Thank God (film).pdf', 'file_path': '/Users/abhi/Git/M-PROJECT/movieClaude-dm/butil/tmp/Thank God (film).pdf', 'file_type': 'application/pdf', 'file_size': 310172, 'creation_date': '2024-04-21', 'last_modified_date': '2024-04-21'}})"
      ]
     },
     "execution_count": 12,
     "metadata": {},
     "output_type": "execute_result"
    }
   ],
   "source": [
    "response"
   ]
  },
  {
   "cell_type": "code",
   "execution_count": null,
   "metadata": {},
   "outputs": [],
   "source": []
  }
 ],
 "metadata": {
  "kernelspec": {
   "display_name": "RAG",
   "language": "python",
   "name": "python3"
  },
  "language_info": {
   "codemirror_mode": {
    "name": "ipython",
    "version": 3
   },
   "file_extension": ".py",
   "mimetype": "text/x-python",
   "name": "python",
   "nbconvert_exporter": "python",
   "pygments_lexer": "ipython3",
   "version": "3.11.8"
  }
 },
 "nbformat": 4,
 "nbformat_minor": 2
}
