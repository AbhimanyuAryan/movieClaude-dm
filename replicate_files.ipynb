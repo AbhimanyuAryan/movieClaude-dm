{
 "cells": [
  {
   "cell_type": "code",
   "execution_count": 19,
   "metadata": {},
   "outputs": [],
   "source": [
    "from llama_index.core import (\n",
    "    ServiceContext,\n",
    "    PromptHelper,\n",
    "    VectorStoreIndex,\n",
    "    SimpleDirectoryReader,\n",
    "    StorageContext,\n",
    "    load_index_from_storage\n",
    ")\n",
    "\n",
    "from llama_index.embeddings.openai import OpenAIEmbedding\n",
    "from llama_index.llms.openai import OpenAI\n",
    "from llama_index.core.node_parser import SimpleNodeParser\n",
    "import tiktoken\n",
    "# from ..prompts import RecommendationPrompt\n",
    "from typing import List\n",
    "import logging"
   ]
  },
  {
   "cell_type": "code",
   "execution_count": 20,
   "metadata": {},
   "outputs": [],
   "source": [
    "from pydantic import BaseModel\n",
    "\n",
    "class RecommendationPrompt(BaseModel):\n",
    "\n",
    "    template: str = \"\"\"\n",
    "        {details}\n",
    "    \"\"\"\n",
    "\n",
    "    details: str\n",
    "\n",
    "    def __str__(self):\n",
    "\n",
    "        return self.template.format(details = self.details)"
   ]
  },
  {
   "cell_type": "code",
   "execution_count": 21,
   "metadata": {},
   "outputs": [],
   "source": [
    "class RAGProvider:\n",
    "\n",
    "    def __init__(\n",
    "        self,\n",
    "        api_key,\n",
    "        model: str = 'gpt-3.5-turbo',\n",
    "        persist_dir: str = \"tmp\"\n",
    "    ):\n",
    "\n",
    "        self.model = model\n",
    "        self.persist_dir = persist_dir\n",
    "\n",
    "        self.llm = OpenAI(\n",
    "            model = model,\n",
    "            temperature = 0,\n",
    "            max_tokens = 256,\n",
    "            api_key = api_key\n",
    "        )\n",
    "\n",
    "        self.embed_model = OpenAIEmbedding(api_key = api_key)\n",
    "\n",
    "    def create_index(\n",
    "        self,\n",
    "        separator: str = \" \",\n",
    "        chunk_size: int = 1024,\n",
    "        chunk_overlap: int = 20,\n",
    "        prompt_context_window: int = 4096,\n",
    "        num_output: int = 256,\n",
    "        chunk_overlap_ratio: float = 0.1,\n",
    "        chunk_size_limit = None,\n",
    "        input_files: str = \"butil/tmp/\"\n",
    "    ):\n",
    "\n",
    "        node_parser = SimpleNodeParser.from_defaults(\n",
    "            separator = separator,\n",
    "            chunk_size = chunk_size,\n",
    "            chunk_overlap = chunk_overlap,\n",
    "            tokenizer = tiktoken.encoding_for_model(self.model).encode\n",
    "        )\n",
    "\n",
    "        prompt_helper = PromptHelper(\n",
    "            context_window = prompt_context_window, \n",
    "            num_output = num_output, \n",
    "            chunk_overlap_ratio = chunk_overlap_ratio, \n",
    "            chunk_size_limit = chunk_size_limit\n",
    "        )\n",
    "\n",
    "        service_context = ServiceContext.from_defaults(\n",
    "            llm = self.llm,\n",
    "            embed_model = self.embed_model,\n",
    "            node_parser = node_parser,\n",
    "            prompt_helper = prompt_helper\n",
    "        )\n",
    "\n",
    "        documents = SimpleDirectoryReader(input_files).load_data()\n",
    "\n",
    "        index = VectorStoreIndex.from_documents(\n",
    "            documents, \n",
    "            service_context = service_context\n",
    "        )\n",
    "\n",
    "        index.storage_context.persist(persist_dir = self.persist_dir)\n",
    "    \n",
    "    def query(\n",
    "        self,\n",
    "        prompt: RecommendationPrompt,\n",
    "        index_dir: str = \"tmp/\"\n",
    "    ) -> str:\n",
    "        \n",
    "        storage_context = StorageContext.from_defaults(persist_dir = index_dir)\n",
    "        index = load_index_from_storage(storage_context = storage_context)\n",
    "        query_engine = index.as_query_engine()\n",
    "\n",
    "        formatted_prompt = str(prompt)\n",
    "        logging.info(f\"Formatted prompt: {formatted_prompt}\")\n",
    "        response = query_engine.query(formatted_prompt)\n",
    "        return response"
   ]
  },
  {
   "cell_type": "code",
   "execution_count": 22,
   "metadata": {},
   "outputs": [],
   "source": [
    "import dotenv"
   ]
  },
  {
   "cell_type": "code",
   "execution_count": 23,
   "metadata": {},
   "outputs": [
    {
     "data": {
      "text/plain": [
       "True"
      ]
     },
     "execution_count": 23,
     "metadata": {},
     "output_type": "execute_result"
    }
   ],
   "source": [
    "dotenv.load_dotenv()"
   ]
  },
  {
   "cell_type": "code",
   "execution_count": 24,
   "metadata": {},
   "outputs": [],
   "source": [
    "import os"
   ]
  },
  {
   "cell_type": "code",
   "execution_count": 25,
   "metadata": {},
   "outputs": [],
   "source": [
    "# read OPENAI_API_KEY from .env file\n",
    "api_key = os.getenv(\"OPENAI_API_KEY\")"
   ]
  },
  {
   "cell_type": "code",
   "execution_count": 8,
   "metadata": {},
   "outputs": [],
   "source": [
    "provider = RAGProvider(api_key = api_key)"
   ]
  },
  {
   "cell_type": "code",
   "execution_count": 9,
   "metadata": {},
   "outputs": [
    {
     "name": "stderr",
     "output_type": "stream",
     "text": [
      "/var/folders/0j/d0xd373d2tb7zdzcsqrk3mpw0000gn/T/ipykernel_61695/703402201.py:48: DeprecationWarning: Call to deprecated class method from_defaults. (ServiceContext is deprecated, please use `llama_index.settings.Settings` instead.) -- Deprecated since version 0.10.0.\n",
      "  service_context = ServiceContext.from_defaults(\n"
     ]
    }
   ],
   "source": [
    "prompt = provider.create_index()"
   ]
  },
  {
   "cell_type": "code",
   "execution_count": 14,
   "metadata": {},
   "outputs": [],
   "source": [
    "prompt_question = RecommendationPrompt(details = \"which movie had song Dus Bahane 2.0\")"
   ]
  },
  {
   "cell_type": "code",
   "execution_count": 15,
   "metadata": {},
   "outputs": [],
   "source": [
    "prompt"
   ]
  },
  {
   "cell_type": "code",
   "execution_count": 16,
   "metadata": {},
   "outputs": [],
   "source": [
    "recommendations = provider.query(prompt = prompt_question)"
   ]
  },
  {
   "cell_type": "code",
   "execution_count": 27,
   "metadata": {},
   "outputs": [
    {
     "data": {
      "text/plain": [
       "Response(response='The movie that had the song \"Dus Bahane 2.0\" is Baaghi 3.', source_nodes=[NodeWithScore(node=TextNode(id_='7e85ac42-c783-4b54-9daa-8c0059227a76', embedding=None, metadata={'page_label': '7', 'file_name': 'Baaghi_3.pdf', 'file_path': '/Users/abhi/Git/M-PROJECT/movieClaude-dm/butil/tmp/Baaghi_3.pdf', 'file_type': 'application/pdf', 'file_size': 272107, 'creation_date': '2024-04-21', 'last_modified_date': '2024-04-21'}, excluded_embed_metadata_keys=['file_name', 'file_type', 'file_size', 'creation_date', 'last_modified_date', 'last_accessed_date'], excluded_llm_metadata_keys=['file_name', 'file_type', 'file_size', 'creation_date', 'last_modified_date', 'last_accessed_date'], relationships={<NodeRelationship.SOURCE: '1'>: RelatedNodeInfo(node_id='b4cd9c4b-2bc4-4204-b68c-9e0e2437aa39', node_type=<ObjectType.DOCUMENT: '4'>, metadata={'page_label': '7', 'file_name': 'Baaghi_3.pdf', 'file_path': '/Users/abhi/Git/M-PROJECT/movieClaude-dm/butil/tmp/Baaghi_3.pdf', 'file_type': 'application/pdf', 'file_size': 272107, 'creation_date': '2024-04-21', 'last_modified_date': '2024-04-21'}, hash='44023487e22f5e5d8895d4bcfefd06d525e1ca0dc2df1e74f511269f1e6ead9c'), <NodeRelationship.PREVIOUS: '2'>: RelatedNodeInfo(node_id='edab6fa0-28ec-40ed-a9bd-064a5309581e', node_type=<ObjectType.TEXT: '1'>, metadata={'page_label': '6', 'file_name': 'Baaghi_3.pdf', 'file_path': '/Users/abhi/Git/M-PROJECT/movieClaude-dm/butil/tmp/Baaghi_3.pdf', 'file_type': 'application/pdf', 'file_size': 272107, 'creation_date': '2024-04-21', 'last_modified_date': '2024-04-21'}, hash='a7bc1a8124e8d3bb9f38ac4e2a5407ac47035ef5f466e0e00b468e710ab9e8d0')}, text='26. \"Baaghi 3 (Original Motion Picture Soundtrack)\" (https://music.apple.com/us/album/baaghi-3-\\noriginal-motion-picture-soundtrack-ep/1501951055). iTunes.\\n27. \"When Vishal-Shekhar stepped in to rescue their song \\'Dus Bahane\\'\" (https://www.dnaindia.\\ncom/bollywood/report-when-vishal-shekhar-stepped-in-to-rescue-their-song-dus-bahane-28\\n13590). DNA India. 13 February 2020. Retrieved 13 June 2020.\\n28. \"Baaghi 3 song Dus Bahaane: Here\\'s why Vishal-Shekhar agreed to revamp their song\" (htt\\nps://www.mid-day.com/articles/baaghi-3-song-dus-bahaane-heres-why-vishal-shekhar-agree\\nd-to-revamp-their-song/22594156). mid-day. 12 February 2020. Retrieved 25 February 2020.\\n29. \"Vishal-Shekhar on remixing Dus Bahane for Baaghi 3: \\'We are trying to fix it so it isn\\'t\\nreduced to another shoddy remix\\'\" (https://m.hindustantimes.com/music/vishal-shekhar-on-r\\nemixing-dus-bahane-for-baaghi-3-we-are-trying-to-fix-it-so-it-isn-t-reduced-to-another-shodd\\ny-remix/story-xASyXplKux8fjipgF4eneM_amp.html). Hindustan Times. 4 February 2020.\\nRetrieved 11 February 2020.\\n30. Sen, Debarati S. \"Vishal-Shekhar excited to remix their own song for the first time – Times of\\nIndia\" (https://timesofindia.indiatimes.com/entertainment/hindi/music/news/vishal-shekhar-ex\\ncited-to-remix-their-own-song-for-the-first-time/articleshow/74132496.cms). The Times of\\nIndia.\\n31. \"Baaghi 3 song Dus Bahane 2.0 sees Tiger Shroff, Shraddha Kapoor match steps in Vishal-\\nShekhar\\'s rehashed number\" (https://www.firstpost.com/entertainment/baaghi-3-song-dus-ba\\nhane-2-0-sees-tiger-shroff-shraddha-kapoor-match-steps-in-vishal-shekhars-rehashed-numb\\ner-8033431.html). Firstpost. 12 February 2020. Retrieved 29 September 2023.\\n32. \"Tiger Shroff\\'s film to see another remix of a popular song, this time by Bappi Lahiri\" (https://\\nweb.archive.org/web/20200218202735/https://m.mid-day.com/amp/articles/baaghi-3-tiger-sh\\nroffs-film-to-see-another-remix-of-a-popular-song-this-time-by-bappi-lahiri/22623181). Mid\\nDay. 17 February 2020. Archived from the original (https://m.mid-day.com/amp/articles/baagh\\ni-3-tiger-shroffs-film-to-see-another-remix-of-a-popular-song-this-time-by-bappi-lahiri/226231\\n81) on 18 February 2020. Retrieved 17 February 2020.\\nBaaghi 3 (https://www.imdb.com/title/tt8366590/) at IMDb\\nBaaghi 3 (https://www.bollywoodhungama.com/movie/baaghi-3-2/cast/) at Bollywood\\nHungama\\nRetrieved from \"https://en.wikipedia.org/w/index.php?title=Baaghi_3&oldid=1219836170\"External links', start_char_idx=0, end_char_idx=2450, text_template='{metadata_str}\\n\\n{content}', metadata_template='{key}: {value}', metadata_seperator='\\n'), score=0.8160804064341436), NodeWithScore(node=TextNode(id_='83074ba6-a887-4e1a-a9de-a99429768627', embedding=None, metadata={'page_label': '4', 'file_name': 'Baaghi_3.pdf', 'file_path': '/Users/abhi/Git/M-PROJECT/movieClaude-dm/butil/tmp/Baaghi_3.pdf', 'file_type': 'application/pdf', 'file_size': 272107, 'creation_date': '2024-04-21', 'last_modified_date': '2024-04-21'}, excluded_embed_metadata_keys=['file_name', 'file_type', 'file_size', 'creation_date', 'last_modified_date', 'last_accessed_date'], excluded_llm_metadata_keys=['file_name', 'file_type', 'file_size', 'creation_date', 'last_modified_date', 'last_accessed_date'], relationships={<NodeRelationship.SOURCE: '1'>: RelatedNodeInfo(node_id='3b087313-5846-47be-8c95-222b1ba9e536', node_type=<ObjectType.DOCUMENT: '4'>, metadata={'page_label': '4', 'file_name': 'Baaghi_3.pdf', 'file_path': '/Users/abhi/Git/M-PROJECT/movieClaude-dm/butil/tmp/Baaghi_3.pdf', 'file_type': 'application/pdf', 'file_size': 272107, 'creation_date': '2024-04-21', 'last_modified_date': '2024-04-21'}, hash='604126fead8ff16f01ab4e756bb8f40a2121eafc8c13230e4ad1e34dca815056'), <NodeRelationship.PREVIOUS: '2'>: RelatedNodeInfo(node_id='7dd324df-b1e9-4075-8c97-be23aab37209', node_type=<ObjectType.TEXT: '1'>, metadata={'page_label': '3', 'file_name': 'Baaghi_3.pdf', 'file_path': '/Users/abhi/Git/M-PROJECT/movieClaude-dm/butil/tmp/Baaghi_3.pdf', 'file_type': 'application/pdf', 'file_size': 272107, 'creation_date': '2024-04-21', 'last_modified_date': '2024-04-21'}, hash='74c430c4e56a751ad7540091f4c9e189b448b09989b8d83830ab2eba12181d9e'), <NodeRelationship.NEXT: '3'>: RelatedNodeInfo(node_id='f3149594-abf7-4069-a518-1badb584f453', node_type=<ObjectType.TEXT: '1'>, metadata={}, hash='c26c4179b8bf132b6e44174be885684cf843791e8e92cee3bcb9e51d4c8f691d')}, text='External audio\\n Official Audio Jukebox (https://www.yo\\nutube.com/watch?v=Vzcg2X5Vk2A) on\\nYouTubeBaaghi 3\\nSoundtrack album by Bappi Lahiri,\\nVishal–Shekhar, Tanishk Bagchi,\\nSachet–Parampara, Rochak Kohli and\\nPranaay Rijia\\nReleased14 February 2020[26]\\nRecorded2019\\nGenre Feature film soundtrack\\nLength 21:12\\nLanguageHindi\\nLabel T-Series\\nProducerMeghdeep Bose, Tanishk\\nBagchi, Sourav Roy, Aditya\\nDev and Sparsh AggrawalBaaghi  3 received mixed reviews from critics and audiences. Taran Adarsh of Bollywood Hungam a gave\\nthe film three stars out of five, praising the performances, action sequences and cinematography while\\ncriticizing the writing and Khan\\'s direction.[23] The Times of India gave the film two and a half stars out of\\nfive, with praise for the action sequences but criticism for the shaky camerawork, CGI and the writing.[24]\\nRajeev Masand from News18 gave the film two stars out of five criticizing the direction, logicless action\\nsequences and the plot and de scribed the film as a \"bloated mess.\"[25]\\nThe film\\'s music was composed by Vishal–Shekhar, Tanishk\\nBagchi, Sachet–Parampara, Rochak Kohli and Pranaay Rijia,\\nwith lyrics written by Panchhi Jalonvi, Indeevar, Tanishk\\nBagchi, Shabbir Ahmed, Gurpreet Saini, Gautam G. Sharma\\nand G inny D iwan.\\nThe song \"Dus Bahane 2.0\" is a recreation of \"Dus Bahane\"\\nfrom the film Dus by Vishal–Shekhar. This was the first time\\nthat the duo recreated one of their song.[27][28][29][30] The\\nmusic video for the song was shot in Mumbai, Rajasthan and\\nSerbia.[31]\\nThe song \"Bhankas\" was a remake of the song \"Ek Aankh\\nMarun To\" from the 1984 film Tohfa, was originally\\ncomposed by Bappi Lahiri, with lyrics by Indeevar and sung\\nby Kishore Kumar and Asha Bhosle, and was recreated by\\nTanishk B agchi.[32]\\nThe song \"Do You Love Me\" is a recreation of British record\\nproduc er TroiBoy\\'s song, voiced by Nikhita Gandhi and\\nwritten and composed by B agchi.[13]\\nThe song \"Tujhe Rab Mana\" is partly inspired by the iconic\\nsong \" Tera Jaisa Yaar Kahan\", sung by Kishore Kumar for the 1981 f ilm Yaarana.\\nTrack listing\\nNo.Title Lyrics Music Singer(s) Length\\n1.\"Dus Bahane 2.0\" Panchhi\\nJalonviVishal–ShekharVishal Dadlani,\\nShekhar\\nRavjiani, KK,\\nShaan, Tulsi\\nKumar3:21\\n2.\"Bhankas\" Shabbir AhmedTanishk Bagchi,\\nBappi LahiriBappi Lahiri,\\nDev Negi,\\nJonita Gandhi2:38\\n3.\"Do You Love Me\" Tanishk Bagchi,\\nRene BendaliTanishk Bagchi,\\nRene BendaliNikhita Gandhi 2:42\\n4.\"Get Ready To Fight -\\nReloaded\"Ginny DiwanPranaay RijiaPranaay Rijia,\\nSiddharth\\nBasrur2:51Soundtrack', start_char_idx=0, end_char_idx=2502, text_template='{metadata_str}\\n\\n{content}', metadata_template='{key}: {value}', metadata_seperator='\\n'), score=0.7802758608546694)], metadata={'7e85ac42-c783-4b54-9daa-8c0059227a76': {'page_label': '7', 'file_name': 'Baaghi_3.pdf', 'file_path': '/Users/abhi/Git/M-PROJECT/movieClaude-dm/butil/tmp/Baaghi_3.pdf', 'file_type': 'application/pdf', 'file_size': 272107, 'creation_date': '2024-04-21', 'last_modified_date': '2024-04-21'}, '83074ba6-a887-4e1a-a9de-a99429768627': {'page_label': '4', 'file_name': 'Baaghi_3.pdf', 'file_path': '/Users/abhi/Git/M-PROJECT/movieClaude-dm/butil/tmp/Baaghi_3.pdf', 'file_type': 'application/pdf', 'file_size': 272107, 'creation_date': '2024-04-21', 'last_modified_date': '2024-04-21'}})"
      ]
     },
     "execution_count": 27,
     "metadata": {},
     "output_type": "execute_result"
    }
   ],
   "source": [
    "recommendations"
   ]
  },
  {
   "cell_type": "code",
   "execution_count": 26,
   "metadata": {},
   "outputs": [
    {
     "data": {
      "text/plain": [
       "'The movie that had the song \"Dus Bahane 2.0\" is Baaghi 3.'"
      ]
     },
     "execution_count": 26,
     "metadata": {},
     "output_type": "execute_result"
    }
   ],
   "source": [
    "recommendations.response"
   ]
  },
  {
   "cell_type": "code",
   "execution_count": null,
   "metadata": {},
   "outputs": [],
   "source": []
  },
  {
   "cell_type": "code",
   "execution_count": null,
   "metadata": {},
   "outputs": [],
   "source": []
  }
 ],
 "metadata": {
  "kernelspec": {
   "display_name": "RAG",
   "language": "python",
   "name": "python3"
  },
  "language_info": {
   "codemirror_mode": {
    "name": "ipython",
    "version": 3
   },
   "file_extension": ".py",
   "mimetype": "text/x-python",
   "name": "python",
   "nbconvert_exporter": "python",
   "pygments_lexer": "ipython3",
   "version": "3.11.8"
  }
 },
 "nbformat": 4,
 "nbformat_minor": 2
}
